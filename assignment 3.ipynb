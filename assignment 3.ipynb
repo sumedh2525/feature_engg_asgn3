{
 "cells": [
  {
   "cell_type": "markdown",
   "id": "70f54eae-8335-4dfa-9287-936165239f32",
   "metadata": {},
   "source": [
    "Q1. What is Min-Max scaling, and how is it used in data preprocessing? Provide an example to illustrate its\n",
    "application."
   ]
  },
  {
   "cell_type": "markdown",
   "id": "ac6aa9b3-5bfc-4163-93d7-c7ce01bfd1a2",
   "metadata": {},
   "source": [
    "Min-Max scaling is a data preprocessing technique used to scale numerical features in a dataset to a specific range, usually between 0 and 1. This method transforms each feature by subtracting its minimum value and then dividing by the range (the difference between the maximum and minimum values) of that feature. The goal of Min-Max scaling is to ensure that all features have the same scale, which can be beneficial for certain machine learning algorithms that are sensitive to the scale of the input data."
   ]
  },
  {
   "cell_type": "code",
   "execution_count": null,
   "id": "5358cae0-8fd4-4770-a5a1-fe40614eef78",
   "metadata": {},
   "outputs": [],
   "source": []
  },
  {
   "cell_type": "markdown",
   "id": "1cb28ec5-7b96-4774-ae26-151f0f620925",
   "metadata": {},
   "source": [
    "Q2. What is the Unit Vector technique in feature scaling, and how does it differ from Min-Max scaling?\n",
    "Provide an example to illustrate its application."
   ]
  },
  {
   "cell_type": "markdown",
   "id": "9f883e88-28ac-448f-a203-4792dbc85614",
   "metadata": {},
   "source": [
    "The Unit Vector technique, also known as Vector Normalization or L2 Normalization, is a feature scaling method used to transform data in such a way that each data point (vector) has a Euclidean norm (magnitude) of 1. This technique is particularly useful when you want to scale features while maintaining their direction or relative relationships.\n",
    "\n",
    "In Unit Vector scaling, each data point is divided by its Euclidean norm (L2 norm), which is the square root of the sum of squared values of its components. This process ensures that the length of each vector becomes 1 while preserving the original direction. It is commonly used in machine learning algorithms that rely on distance calculations or dot products, such as k-nearest neighbors and support vector machines."
   ]
  },
  {
   "cell_type": "code",
   "execution_count": null,
   "id": "4996cae5-eaa8-483a-93a9-2e54ef6ae255",
   "metadata": {},
   "outputs": [],
   "source": []
  },
  {
   "cell_type": "markdown",
   "id": "4b1889c3-92db-4e90-893e-87b2be45716f",
   "metadata": {},
   "source": [
    "Q3. What is PCA (Principle Component Analysis), and how is it used in dimensionality reduction? Provide an\n",
    "example to illustrate its application."
   ]
  },
  {
   "cell_type": "markdown",
   "id": "3da49e29-71c0-41c0-b212-9707f1085b99",
   "metadata": {},
   "source": [
    "Principal Component Analysis (PCA) is a statistical technique used in data analysis and machine learning to reduce the dimensionality of a dataset while preserving as much of its original variability as possible. It does so by transforming the data into a new coordinate system where the axes, known as principal components, are orthogonal (uncorrelated) and sorted in decreasing order of variance.\n",
    "\n",
    "The main goal of PCA is to simplify complex datasets by projecting them onto a lower-dimensional subspace while retaining the most important information. This can be particularly useful when dealing with high-dimensional data, as it helps reduce computational complexity, mitigate the curse of dimensionality, and enhance visualization and interpretation of the data.\n",
    "\n",
    "Here's a step-by-step overview of how PCA works:\n",
    "\n",
    "Standardize the Data: If the features in your dataset have different scales or units, it's important to standardize them to have a mean of 0 and a standard deviation of 1.\n",
    "\n",
    "Compute the Covariance Matrix: Calculate the covariance matrix of the standardized data. The covariance matrix provides information about the relationships between different features in the dataset.\n",
    "\n",
    "Compute Eigenvectors and Eigenvalues: Calculate the eigenvectors and eigenvalues of the covariance matrix. Eigenvectors represent the directions (principal components) along which the data varies the most, while eigenvalues quantify the amount of variance along each eigenvector.\n",
    "\n",
    "Sort Eigenvectors by Eigenvalues: Sort the eigenvectors in descending order of their corresponding eigenvalues. This determines the order of importance of the principal components.\n",
    "\n",
    "Choose Principal Components: Select the top k eigenvectors (principal components) based on the desired reduced dimensionality.\n",
    "\n",
    "Projection: Project the original data onto the new subspace defined by the selected principal components. This results in a lower-dimensional representation of the data.1\n"
   ]
  },
  {
   "cell_type": "code",
   "execution_count": null,
   "id": "1dd537b3-e756-49eb-ae5a-6188a548c908",
   "metadata": {},
   "outputs": [],
   "source": []
  },
  {
   "cell_type": "markdown",
   "id": "b21a0fd4-cd4c-4f42-8745-f08fb26ff671",
   "metadata": {},
   "source": [
    "Q4. What is the relationship between PCA and Feature Extraction, and how can PCA be used for Feature\n",
    "Extraction? Provide an example to illustrate this concept."
   ]
  },
  {
   "cell_type": "markdown",
   "id": "2ab4fa19-15ed-4c40-91dd-3219d33d693a",
   "metadata": {},
   "source": [
    "Principal Component Analysis (PCA) is a statistical technique used in data analysis and machine learning to reduce the dimensionality of a dataset while preserving as much of its original variability as possible. It does so by transforming the data into a new coordinate system where the axes, known as principal components, are orthogonal (uncorrelated) and sorted in decreasing order of variance.\n",
    "\n",
    "The main goal of PCA is to simplify complex datasets by projecting them onto a lower-dimensional subspace while retaining the most important information. This can be particularly useful when dealing with high-dimensional data, as it helps reduce computational complexity, mitigate the curse of dimensionality, and enhance visualization and interpretation of the data."
   ]
  },
  {
   "cell_type": "code",
   "execution_count": null,
   "id": "202156f6-9479-4e46-b0e7-05a644b0947b",
   "metadata": {},
   "outputs": [],
   "source": []
  },
  {
   "cell_type": "code",
   "execution_count": null,
   "id": "e2fcc7a0-9f55-40e2-a79d-f2871825293e",
   "metadata": {},
   "outputs": [],
   "source": []
  },
  {
   "cell_type": "code",
   "execution_count": null,
   "id": "86eefa80-ce4e-4c8d-8713-1356589ec37f",
   "metadata": {},
   "outputs": [],
   "source": [
    "Q5. You are working on a project to build a recommendation system for a food delivery service. The dataset\n",
    "contains features such as price, rating, and delivery time. Explain how you would use Min-Max scaling to\n",
    "preprocess the data."
   ]
  },
  {
   "cell_type": "markdown",
   "id": "df3bb0f9-a312-46ba-9ff5-a58f7b6203ad",
   "metadata": {},
   "source": [
    "Min-Max scaling is a common preprocessing technique used to normalize features in a dataset to a specific range. It is particularly useful when dealing with features that have different scales, ensuring that all features contribute equally to the analysis or modeling process. In your food delivery recommendation system project, you can apply Min-Max scaling to preprocess the features like price, rating, and delivery time. Here's how you would use Min-Max scaling:\n",
    "\n",
    "Understand the Data: Before applying any preprocessing technique, it's important to have a good understanding of the range and distribution of your features. This helps you decide on an appropriate scaling strategy.\n",
    "\n",
    "Determine the Range: Decide on the desired range for the scaled features. A common choice is to scale the features to the range [0, 1], but you can choose a different range based on the characteristics of your data.\n",
    "\n",
    "Calculate Min-Max Values: For each feature, calculate the minimum and maximum values present in the dataset. These values will be used to perform the scaling.\n",
    "\n",
    "Apply Min-Max Scaling Formula: The formula to perform Min-Max scaling is as follows:\n",
    "\n",
    "�\n",
    "�\n",
    "�\n",
    "�\n",
    "�\n",
    "�\n",
    "�\n",
    "=\n",
    "�\n",
    "−\n",
    "�\n",
    "�\n",
    "�\n",
    "�\n",
    "�\n",
    "�\n",
    "�\n",
    "�\n",
    "−\n",
    "�\n",
    "�\n",
    "�\n",
    "�\n",
    "X \n",
    "s\n",
    "​\n",
    " caled= \n",
    "X \n",
    "m\n",
    "​\n",
    " ax−X \n",
    "m\n",
    "​\n",
    " in\n",
    "X−X \n",
    "m\n",
    "​\n",
    " in\n",
    "​\n",
    " \n",
    "\n",
    "where:\n",
    "\n",
    "�\n",
    "X is the original feature value.\n",
    "�\n",
    "�\n",
    "�\n",
    "�\n",
    "X \n",
    "m\n",
    "​\n",
    " in is the minimum value of the feature in the dataset.\n",
    "�\n",
    "�\n",
    "�\n",
    "�\n",
    "X \n",
    "m\n",
    "​\n",
    " ax is the maximum value of the feature in the dataset.\n",
    "�\n",
    "�\n",
    "�\n",
    "�\n",
    "�\n",
    "�\n",
    "�\n",
    "X \n",
    "s\n",
    "​\n",
    " caled is the scaled feature value.\n",
    "Perform Scaling: Apply the Min-Max scaling formula to each feature in the dataset using the calculated minimum and maximum values.\n",
    "\n",
    "Updated Feature Values: The scaled feature values will now fall within the specified range (e.g., [0, 1]).\n",
    "\n",
    "Normalization Applied: By scaling the features to a common range, you ensure that no single feature dominates the others due to its scale, thus helping your recommendation system consider all features equally during analysis or modeling.\n",
    "\n",
    "In your food delivery recommendation system project:\n",
    "\n",
    "Price: If the original price values range from $5 to $50, for example, Min-Max scaling can transform these values to a range between 0 and 1. A price of $5 would be scaled to 0, while $50 would be scaled to 1.\n",
    "\n",
    "Rating: If ratings are on a scale from 1 to 5, Min-Max scaling can be used to transform them to a range of [0, 1], with 1 becoming 1 and 5 becoming 0.\n",
    "\n",
    "Delivery Time: If delivery times range from 20 minutes to 60 minutes, Min-Max scaling can normalize these values to a range of [0, 1], with 20 minutes becoming 0 and 60 minutes becoming 1."
   ]
  },
  {
   "cell_type": "code",
   "execution_count": null,
   "id": "a20a43e6-2616-4319-86de-4d25794afe1f",
   "metadata": {},
   "outputs": [],
   "source": []
  },
  {
   "cell_type": "code",
   "execution_count": null,
   "id": "e237faf2-4177-4eb4-8f16-0a28ec26aa64",
   "metadata": {},
   "outputs": [],
   "source": []
  },
  {
   "cell_type": "markdown",
   "id": "9b37062b-8369-4a33-b0ab-097df1fd7555",
   "metadata": {},
   "source": [
    "Q6. You are working on a project to build a model to predict stock prices. The dataset contains many\n",
    "features, such as company financial data and market trends. Explain how you would use PCA to reduce the\n",
    "dimensionality of the dataset."
   ]
  },
  {
   "cell_type": "markdown",
   "id": "77b31491-5fd2-4317-aa93-967788f95671",
   "metadata": {},
   "source": [
    "\n",
    "In the context of building a model to predict stock prices, utilizing Principal Component Analysis (PCA) for dimensionality reduction can be highly beneficial. PCA can help simplify the dataset by transforming the original features into a smaller set of uncorrelated features, known as principal components, while retaining as much of the variance in the data as possible. This can lead to improved model performance, reduced computational complexity, and enhanced interpretability.\n",
    "\n",
    "Here's how you would use PCA to reduce the dimensionality of the dataset for predicting stock prices:\n",
    "\n",
    "Data Preprocessing: Gather and preprocess your dataset, which includes various features related to company financial data and market trends. Ensure that the features are standardized (mean-centered and scaled to unit variance) before applying PCA.\n",
    "\n",
    "Understand the Data: Gain a comprehensive understanding of the dataset, including the number of features, their distributions, and potential relationships between them. This will help you make informed decisions during the PCA process.\n",
    "\n",
    "Covariance Matrix: Compute the covariance matrix of the standardized data. The covariance matrix provides insights into the relationships between different features.\n",
    "\n",
    "Eigenvalue Decomposition: Calculate the eigenvectors and eigenvalues of the covariance matrix. Eigenvectors represent directions in the feature space that capture the most variance, and eigenvalues quantify the amount of variance along each eigenvector."
   ]
  },
  {
   "cell_type": "code",
   "execution_count": null,
   "id": "29595be6-39ac-4daf-80c3-66fc0b6e957b",
   "metadata": {},
   "outputs": [],
   "source": []
  },
  {
   "cell_type": "code",
   "execution_count": null,
   "id": "6f3a29d9-0018-4698-8be0-b471372b14ff",
   "metadata": {},
   "outputs": [],
   "source": []
  },
  {
   "cell_type": "markdown",
   "id": "21537d31-93f2-42b0-8b98-109d1e166b37",
   "metadata": {},
   "source": [
    "Q7. For a dataset containing the following values: [1, 5, 10, 15, 20], perform Min-Max scaling to transform the\n",
    "values to a range of -1 to 1."
   ]
  },
  {
   "cell_type": "code",
   "execution_count": null,
   "id": "fd3da8a3-7271-4a8e-a433-ab3008ba6add",
   "metadata": {},
   "outputs": [],
   "source": [
    "import numpy as np\n",
    "\n",
    "# Original dataset\n",
    "dataset = np.array([1, 5, 10, 15, 20])\n",
    "\n",
    "# Calculate minimum and maximum values\n",
    "min_value = np.min(dataset)\n",
    "max_value = np.max(dataset)\n",
    "\n",
    "# Define the target range (-1 to 1)\n",
    "target_min = -1\n",
    "target_max = 1\n",
    "\n",
    "# Apply Min-Max scaling formula\n",
    "scaled_dataset = ((dataset - min_value) / (max_value - min_value)) * (target_max - target_min) + target_min\n",
    "\n",
    "# Display the scaled dataset\n",
    "print(\"Original Dataset:\", dataset)\n",
    "print(\"Scaled Dataset:\", scaled_dataset)\n"
   ]
  },
  {
   "cell_type": "code",
   "execution_count": null,
   "id": "cfa2bf0d-85be-4ae4-804e-83449651e17a",
   "metadata": {},
   "outputs": [],
   "source": []
  },
  {
   "cell_type": "code",
   "execution_count": null,
   "id": "d59b8009-abd0-4a7c-ae91-d01d88dadbd0",
   "metadata": {},
   "outputs": [],
   "source": []
  },
  {
   "cell_type": "markdown",
   "id": "608cf188-3348-4602-9bae-9f06776cf762",
   "metadata": {},
   "source": [
    "Q8. For a dataset containing the following features: [height, weight, age, gender, blood pressure], perform\n",
    "Feature Extraction using PCA. How many principal components would you choose to retain, and why?"
   ]
  },
  {
   "cell_type": "code",
   "execution_count": 12,
   "id": "0edb201d-7444-48bf-9509-4f5ecfab292a",
   "metadata": {},
   "outputs": [
    {
     "data": {
      "image/png": "[encoded data removed]",
      "text/plain": [
       "<Figure size 1000x1200 with 1 Axes>"
      ]
     },
     "metadata": {},
     "output_type": "display_data"
    },
    {
     "name": "stdout",
     "output_type": "stream",
     "text": [
      "[0.26386183 0.22838409 0.19433259 0.16565351 0.14776798] [0.26386183 0.49224592 0.68657851 0.85223202 1.        ]\n"
     ]
    }
   ],
   "source": [
    "import matplotlib.pyplot as plt\n",
    "%matplotlib inline\n",
    "import numpy as np\n",
    "from sklearn.decomposition import PCA\n",
    "\n",
    "np.random.seed(0)\n",
    "X = np.random.rand(100,5)\n",
    "\n",
    "mean = np.mean(X,axis=0)\n",
    "std = np.std(X,axis=0)\n",
    "X_standardized = (X - mean)/std\n",
    "\n",
    "pca = PCA()\n",
    "\n",
    "X_pca = pca.fit_transform(X_standardized)\n",
    "\n",
    "explained_variance_ratio = pca.explained_variance_ratio_\n",
    "cumulative_explained_variance = np.cumsum(explained_variance_ratio)\n",
    "\n",
    "plt.figure(figsize= (10,12))\n",
    "plt.plot(range(1,len(explained_variance_ratio)+1), cumulative_explained_variance,marker='o')\n",
    "plt.xlabel('Number of Principal Components')\n",
    "plt.ylabel('Cumulative Explained Variance')\n",
    "plt.title('Elbow Plot for PCA')\n",
    "plt.grid(True)\n",
    "plt.show()\n",
    "print(explained_variance_ratio,cumulative_explained_variance)"
   ]
  },
  {
   "cell_type": "code",
   "execution_count": null,
   "id": "d5722623-f583-479f-9472-f0b8fa96a9ff",
   "metadata": {},
   "outputs": [],
   "source": []
  }
 ],
 "metadata": {
  "kernelspec": {
   "display_name": "Python 3 (ipykernel)",
   "language": "python",
   "name": "python3"
  },
  "language_info": {
   "codemirror_mode": {
    "name": "ipython",
    "version": 3
   },
   "file_extension": ".py",
   "mimetype": "text/x-python",
   "name": "python",
   "nbconvert_exporter": "python",
   "pygments_lexer": "ipython3",
   "version": "3.10.8"
  }
 },
 "nbformat": 4,
 "nbformat_minor": 5
}
